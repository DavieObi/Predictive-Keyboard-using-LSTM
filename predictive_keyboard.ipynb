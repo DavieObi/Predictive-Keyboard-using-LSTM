{
 "cells": [
  {
   "cell_type": "code",
   "execution_count": null,
   "id": "6d42dcfa",
   "metadata": {},
   "outputs": [
    {
     "name": "stderr",
     "output_type": "stream",
     "text": [
      "[nltk_data] Downloading package punkt to C:\\Users\\HP\n",
      "[nltk_data]     FOLIO\\AppData\\Roaming\\nltk_data...\n",
      "[nltk_data]   Package punkt is already up-to-date!\n",
      "[nltk_data] Downloading package punkt_tab to C:\\Users\\HP\n",
      "[nltk_data]     FOLIO\\AppData\\Roaming\\nltk_data...\n",
      "[nltk_data]   Package punkt_tab is already up-to-date!\n"
     ]
    },
    {
     "name": "stdout",
     "output_type": "stream",
     "text": [
      "Total Tokens: 125772\n"
     ]
    }
   ],
   "source": [
    "# preparing the dataset by tokenizing the text data and converting everything to lowercase\n",
    "import nltk\n",
    "from nltk.tokenize import word_tokenize\n",
    "nltk.download('punkt')\n",
    "nltk.download('punkt_tab')\n",
    "\n",
    "# load data\n",
    "with open('sherlock-holm.es_stories_plain-text_advs.txt', 'r', encoding='utf-8') as f:\n",
    "    text = f.read().lower()\n",
    "\n",
    "tokens = word_tokenize(text)\n",
    "print(\"Total Tokens:\", len(tokens))"
   ]
  },
  {
   "cell_type": "code",
   "execution_count": 3,
   "id": "3a95fc48",
   "metadata": {},
   "outputs": [],
   "source": [
    "# building the vocabulary and creating word-to-index mappings\n",
    "from collections import Counter\n",
    "\n",
    "word_counts = Counter(tokens)\n",
    "vocab = sorted(word_counts, key=word_counts.get, reverse=True)\n",
    "\n",
    "word2idx = {word: idx for idx, word in enumerate(vocab)}\n",
    "idx2word = {idx: word for word, idx in word2idx.items()}\n",
    "vocab_size = len(vocab)"
   ]
  },
  {
   "cell_type": "code",
   "execution_count": 6,
   "id": "ab1c589e",
   "metadata": {},
   "outputs": [],
   "source": [
    "# create input-target sequences for next word prediction\n",
    "import torch\n",
    "sequence_length = 4  # e.g., \"I am going to [predict this]\"\n",
    "\n",
    "data = []\n",
    "for i in range(len(tokens) - sequence_length):\n",
    "    input_seq = tokens[i:i + sequence_length - 1]\n",
    "    target = tokens[i + sequence_length - 1]\n",
    "    data.append((input_seq, target))\n",
    "\n",
    "# convert words to indices\n",
    "def encode(seq): return [word2idx[word] for word in seq]\n",
    "\n",
    "encoded_data = [(torch.tensor(encode(inp)), torch.tensor(word2idx[target]))\n",
    "                for inp, target in data]"
   ]
  },
  {
   "cell_type": "code",
   "execution_count": 7,
   "id": "e58b5d87",
   "metadata": {},
   "outputs": [],
   "source": [
    "# define the LSTM-based Predictive Keyboard model\n",
    "import torch.nn as nn\n",
    "\n",
    "class PredictiveKeyboard(nn.Module):\n",
    "    def __init__(self, vocab_size, embed_dim=64, hidden_dim=128):\n",
    "        super(PredictiveKeyboard, self).__init__()\n",
    "        self.embedding = nn.Embedding(vocab_size, embed_dim)\n",
    "        self.lstm = nn.LSTM(embed_dim, hidden_dim, batch_first=True)\n",
    "        self.fc = nn.Linear(hidden_dim, vocab_size)\n",
    "\n",
    "    def forward(self, x):\n",
    "        x = self.embedding(x)\n",
    "        output, _ = self.lstm(x)\n",
    "        output = self.fc(output[:, -1, :])  # last LSTM output\n",
    "        return output"
   ]
  },
  {
   "cell_type": "code",
   "execution_count": 8,
   "id": "2cecf527",
   "metadata": {},
   "outputs": [
    {
     "name": "stdout",
     "output_type": "stream",
     "text": [
      "Epoch 1, Loss: 65926.0016\n",
      "Epoch 2, Loss: 67716.0450\n",
      "Epoch 3, Loss: 69567.7317\n",
      "Epoch 4, Loss: 70882.2244\n",
      "Epoch 5, Loss: 72777.6713\n",
      "Epoch 6, Loss: 72348.7293\n",
      "Epoch 7, Loss: 71978.6820\n",
      "Epoch 8, Loss: 74495.4696\n",
      "Epoch 9, Loss: 74547.1470\n",
      "Epoch 10, Loss: 76101.1995\n",
      "Epoch 11, Loss: 75044.9536\n",
      "Epoch 12, Loss: 76796.5563\n",
      "Epoch 13, Loss: 76412.2413\n",
      "Epoch 14, Loss: 77534.9266\n",
      "Epoch 15, Loss: 77155.9877\n",
      "Epoch 16, Loss: 79957.8370\n",
      "Epoch 17, Loss: 80817.3230\n",
      "Epoch 18, Loss: 79512.8713\n",
      "Epoch 19, Loss: 80176.3040\n",
      "Epoch 20, Loss: 81638.9565\n"
     ]
    }
   ],
   "source": [
    "# train the model on input-target word sequences\n",
    "import torch\n",
    "import torch.optim as optim\n",
    "import random\n",
    "\n",
    "model = PredictiveKeyboard(vocab_size)\n",
    "criterion = nn.CrossEntropyLoss()\n",
    "optimizer = optim.Adam(model.parameters(), lr=0.005)\n",
    "\n",
    "epochs = 20\n",
    "for epoch in range(epochs):\n",
    "    total_loss = 0\n",
    "    random.shuffle(encoded_data)\n",
    "    for input_seq, target in encoded_data[:10000]:  # Limit data for speed\n",
    "        input_seq = input_seq.unsqueeze(0)\n",
    "        output = model(input_seq)\n",
    "        loss = criterion(output, target.unsqueeze(0))\n",
    "\n",
    "        optimizer.zero_grad()\n",
    "        loss.backward()\n",
    "        optimizer.step()\n",
    "        total_loss += loss.item()\n",
    "\n",
    "    print(f\"Epoch {epoch+1}, Loss: {total_loss:.4f}\")"
   ]
  },
  {
   "cell_type": "code",
   "execution_count": 9,
   "id": "d28cff27",
   "metadata": {},
   "outputs": [
    {
     "name": "stdout",
     "output_type": "stream",
     "text": [
      "Suggestions: ['the', 'my', ',']\n"
     ]
    }
   ],
   "source": [
    "import torch.nn.functional as F\n",
    "\n",
    "def suggest_next_words(model, text_prompt, top_k=3):\n",
    "    model.eval()\n",
    "    tokens = word_tokenize(text_prompt.lower())\n",
    "    if len(tokens) < sequence_length - 1:\n",
    "        raise ValueError(f\"Input should be at least {sequence_length - 1} words long.\")\n",
    "\n",
    "    input_seq = tokens[-(sequence_length - 1):]\n",
    "    input_tensor = torch.tensor(encode(input_seq)).unsqueeze(0)\n",
    "\n",
    "    with torch.no_grad():\n",
    "        output = model(input_tensor)\n",
    "        probs = F.softmax(output, dim=1).squeeze()\n",
    "        top_indices = torch.topk(probs, top_k).indices.tolist()\n",
    "\n",
    "    return [idx2word[idx] for idx in top_indices]\n",
    "\n",
    "print(\"Suggestions:\", suggest_next_words(model, \"So, are we really at\"))"
   ]
  },
  {
   "cell_type": "code",
   "execution_count": null,
   "id": "06ee3f62",
   "metadata": {},
   "outputs": [],
   "source": []
  }
 ],
 "metadata": {
  "kernelspec": {
   "display_name": "Python 3",
   "language": "python",
   "name": "python3"
  },
  "language_info": {
   "codemirror_mode": {
    "name": "ipython",
    "version": 3
   },
   "file_extension": ".py",
   "mimetype": "text/x-python",
   "name": "python",
   "nbconvert_exporter": "python",
   "pygments_lexer": "ipython3",
   "version": "3.12.4"
  }
 },
 "nbformat": 4,
 "nbformat_minor": 5
}
